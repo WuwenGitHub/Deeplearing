{
 "cells": [
  {
   "cell_type": "code",
   "execution_count": 2,
   "metadata": {},
   "outputs": [
    {
     "name": "stdout",
     "output_type": "stream",
     "text": [
      "0 [0.1652094] [0.38617712]\n",
      "20 [0.10257909] [0.29849547]\n",
      "40 [0.10059689] [0.2996518]\n",
      "60 [0.10013817] [0.29991943]\n",
      "80 [0.100032] [0.29998136]\n",
      "100 [0.10000741] [0.2999957]\n",
      "120 [0.10000172] [0.299999]\n",
      "140 [0.1000004] [0.29999977]\n",
      "160 [0.10000009] [0.29999995]\n",
      "180 [0.10000009] [0.29999995]\n",
      "200 [0.10000009] [0.29999995]\n"
     ]
    }
   ],
   "source": [
    "import tensorflow as tf\n",
    "import numpy as np\n",
    "\n",
    "#create data\n",
    "x_data = np.random.rand(100).astype(np.float32)\n",
    "y_data = x_data  * 0.1 + 0.3\n",
    "\n",
    "#搭建模型\n",
    "Weights = tf.Variable(tf.random_uniform([1], -1.0, 1.0))\n",
    "biases = tf.Variable(tf.zeros([1]))\n",
    "\n",
    "y = Weights * x_data + biases\n",
    "\n",
    "#计算误差\n",
    "loss = tf.reduce_mean(tf.square(y - y_data))\n",
    "\n",
    "#传播误差\n",
    "#采用梯度下降算法\n",
    "optimizer = tf.train.GradientDescentOptimizer(0.5)\n",
    "train = optimizer.minimize(loss)\n",
    "\n",
    "#训练\n",
    "##初始化所有变量\n",
    "init = tf.global_variables_initializer()\n",
    "\n",
    "##开始训练\n",
    "sess = tf.Session()\n",
    "sess.run(init)\n",
    "\n",
    "for step in range(201):\n",
    "    sess.run(train)\n",
    "    if step % 20 == 0:\n",
    "        print(step, sess.run(Weights), sess.run(biases))"
   ]
  },
  {
   "cell_type": "code",
   "execution_count": null,
   "metadata": {},
   "outputs": [],
   "source": []
  }
 ],
 "metadata": {
  "kernelspec": {
   "display_name": "Python 3",
   "language": "python",
   "name": "python3"
  },
  "language_info": {
   "codemirror_mode": {
    "name": "ipython",
    "version": 3
   },
   "file_extension": ".py",
   "mimetype": "text/x-python",
   "name": "python",
   "nbconvert_exporter": "python",
   "pygments_lexer": "ipython3",
   "version": "3.6.2"
  }
 },
 "nbformat": 4,
 "nbformat_minor": 2
}
